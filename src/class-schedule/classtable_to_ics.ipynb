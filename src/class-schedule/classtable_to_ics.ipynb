{
 "cells": [
  {
   "cell_type": "code",
   "execution_count": 5,
   "metadata": {},
   "outputs": [],
   "source": [
    "from openpyxl import load_workbook\n",
    "import pandas as pd\n",
    "import numpy as np\n",
    "import re\n",
    "from icalendar import Calendar, Event, vText\n",
    "from pytz import timezone\n",
    "from datetime import datetime, timedelta\n",
    "from typing import Tuple"
   ]
  },
  {
   "cell_type": "code",
   "execution_count": 6,
   "metadata": {},
   "outputs": [],
   "source": [
    "SHEET_NAMES = ['W1-8', 'W9-16']\n",
    "FILENAME = 'file.xlsx'\n",
    "CONFIG_TIMETABLE_COL_IDX = 1\n",
    "CONFIG_DATE_ROW_IDX = 1\n",
    "CONFIG_WEEDDAY_NAMES = ['Monday', 'Tuesday', 'Wednesday', 'Thursday', 'Friday']\n",
    "TZ = timezone('Asia/Shanghai')"
   ]
  },
  {
   "cell_type": "code",
   "execution_count": 9,
   "metadata": {},
   "outputs": [],
   "source": [
    "def is_selected(value: str) -> Tuple[bool, str]:\n",
    "    _pattern_ie = re.compile('.*\\(.*IE.*\\).*$')\n",
    "    _pattern_me = re.compile('.*\\(.*ME.*\\).*$')\n",
    "    _pattern_epe = re.compile('.*\\(.*EPE.*\\).*$')\n",
    "\n",
    "    _match_ie = re.findall(_pattern_ie, str(value))\n",
    "    _match_me = re.findall(_pattern_me, str(value))\n",
    "    _match_epe = re.findall(_pattern_epe, str(value))\n",
    "    _is_match_all = ((len(_match_ie) == 0) and (len(_match_me) == 0) and (len(_match_epe) == 0)) and value\n",
    "\n",
    "    if len(_match_ie) > 0 or _is_match_all:\n",
    "        if _is_match_all:\n",
    "            return True, str(value)\n",
    "        else:\n",
    "            return True, str(_match_ie[0])\n",
    "    else:\n",
    "        return False, ''"
   ]
  },
  {
   "cell_type": "code",
   "execution_count": 10,
   "metadata": {},
   "outputs": [],
   "source": [
    "# f = lambda x: (len(re.findall(re.compile('\\([.]*IE[.]*\\)'), str(x))) > 0)\n",
    "wb = load_workbook(FILENAME)\n",
    "raw_context = []\n",
    "\n",
    "for SHEET_NAME in SHEET_NAMES:\n",
    "    data_np = np.array(pd.DataFrame(wb[SHEET_NAME].values))\n",
    "    weekday_col_idx = np.sort(np.concatenate([np.where(data_np == day)[1] for day in CONFIG_WEEDDAY_NAMES]))  # Weekdays\n",
    "    timetable = data_np[:, CONFIG_TIMETABLE_COL_IDX]  # global timetable\n",
    "\n",
    "    for weekday in weekday_col_idx:\n",
    "        schedule = data_np[:, weekday]\n",
    "        for idx, value in enumerate(schedule):\n",
    "            res = is_selected(value)\n",
    "            if res[0]:\n",
    "                period = timetable[idx]\n",
    "                # print(f\"{value}/{period}/{schedule[CONFIG_DATE_ROW_IDX]}\")\n",
    "                raw_context.append({\n",
    "                    \"value\": res[1],\n",
    "                    \"period\": timetable[idx],\n",
    "                    \"date\": schedule[CONFIG_DATE_ROW_IDX],\n",
    "                })"
   ]
  },
  {
   "cell_type": "code",
   "execution_count": 13,
   "metadata": {},
   "outputs": [],
   "source": [
    "events = []\n",
    "for target in raw_context:\n",
    "    summary = target['value']\n",
    "    _date = target['date']\n",
    "    try:\n",
    "        dtstart_str = target['value'].split(' ')[0].split('-')[0]\n",
    "        dtend_str = target['value'].split(' ')[0].split('-')[1]\n",
    "        dtstart = _date + timedelta(hours=int(dtstart_str.split('h')[0]),\n",
    "                                    minutes=int(dtstart_str.split('h')[1]) if dtstart_str.split('h')[1] != '' else 0)\n",
    "        dtend = _date + timedelta(hours=int(dtend_str.split('h')[0]),\n",
    "                                  minutes=int(dtend_str.split('h')[1]) if dtend_str.split('h')[1] != '' else 0)\n",
    "    except Exception as err:\n",
    "        if target['period'] == None:\n",
    "            continue\n",
    "        else:\n",
    "            print(target, 'filtered')\n",
    "            dtstart_str = target['period'].split('-')[0]\n",
    "            dtstart = _date + timedelta(hours=int(dtstart_str.split(':')[0]), minutes=int(dtstart_str.split(':')[1]))\n",
    "            dtend_str = target['period'].split('-')[1]\n",
    "            dtend = _date + timedelta(hours=int(dtend_str.split(':')[0]), minutes=int(dtend_str.split(':')[1]))\n",
    "    location_str = target['value'].split('-')[-1]\n",
    "\n",
    "    event = Event()\n",
    "    event.add('summary', summary)\n",
    "    event.add('dtstart', dtstart.astimezone(TZ))\n",
    "    event.add('dtend', dtend.astimezone(TZ))\n",
    "    event['location'] = vText(location_str)\n",
    "    events.append(event)\n",
    "\n",
    "cal = Calendar()\n",
    "for event in events:\n",
    "    cal.add_component(event)"
   ]
  },
  {
   "cell_type": "code",
   "execution_count": 14,
   "metadata": {},
   "outputs": [],
   "source": [
    "with open('out.ics', 'wb') as f:\n",
    "    f.write(cal.to_ical())"
   ]
  },
  {
   "cell_type": "code",
   "execution_count": null,
   "metadata": {},
   "outputs": [],
   "source": []
  }
 ],
 "metadata": {
  "interpreter": {
   "hash": "aedd5e66c633617a2b6367c11c0534f47dbb53f58d311e2fdabbf5bcacebad6a"
  },
  "kernelspec": {
   "display_name": "Python 3.8.8 ('default')",
   "language": "python",
   "name": "python3"
  },
  "language_info": {
   "codemirror_mode": {
    "name": "ipython",
    "version": 3
   },
   "file_extension": ".py",
   "mimetype": "text/x-python",
   "name": "python",
   "nbconvert_exporter": "python",
   "pygments_lexer": "ipython3",
   "version": "3.8.8"
  },
  "orig_nbformat": 4
 },
 "nbformat": 4,
 "nbformat_minor": 2
}
